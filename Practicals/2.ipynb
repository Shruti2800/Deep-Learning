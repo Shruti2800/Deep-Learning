{
 "cells": [
  {
   "cell_type": "code",
   "execution_count": 6,
   "id": "827f4201",
   "metadata": {},
   "outputs": [],
   "source": [
    "import pandas as pd   \n",
    "import numpy as np   \n",
    "import matplotlib.pyplot as plt   \n",
    "from sklearn.model_selection import train_test_split\n",
    "from tensorflow.keras.models import Sequential \n",
    "from tensorflow.keras.layers import Dense\n",
    "from tensorflow import keras\n",
    "\n"
   ]
  },
  {
   "cell_type": "code",
   "execution_count": 38,
   "id": "1c9c0f2d",
   "metadata": {},
   "outputs": [],
   "source": [
    "from keras.datasets import imdb"
   ]
  },
  {
   "cell_type": "code",
   "execution_count": 66,
   "id": "8846ce81",
   "metadata": {},
   "outputs": [],
   "source": [
    "(x_train, y_train), (x_test, y_test) = imdb.load_data(num_words=10000)\n"
   ]
  },
  {
   "cell_type": "code",
   "execution_count": 70,
   "id": "ce6092d6",
   "metadata": {},
   "outputs": [],
   "source": [
    "from keras.preprocessing.sequence import pad_sequences\n",
    "x_train = pad_sequences(x_train, maxlen=1000)\n",
    "x_test = pad_sequences(x_test, maxlen=1000)\n"
   ]
  },
  {
   "cell_type": "code",
   "execution_count": 71,
   "id": "e1a48794",
   "metadata": {},
   "outputs": [],
   "source": [
    "model = Sequential()\n",
    "model.add(Dense(16, input_shape=(10000, ), activation = \"relu\"))\n",
    "model.add(Dense(16, activation = \"relu\"))\n",
    "model.add(Dense(1, activation = \"sigmoid\"))"
   ]
  },
  {
   "cell_type": "code",
   "execution_count": 72,
   "id": "bfb55248",
   "metadata": {},
   "outputs": [],
   "source": [
    "model.compile(optimizer='adam', loss = 'mse', metrics = ['accuracy'])"
   ]
  },
  {
   "cell_type": "code",
   "execution_count": 45,
   "id": "2d20cbc3",
   "metadata": {},
   "outputs": [
    {
     "name": "stdout",
     "output_type": "stream",
     "text": [
      "Model: \"sequential_2\"\n",
      "_________________________________________________________________\n",
      " Layer (type)                Output Shape              Param #   \n",
      "=================================================================\n",
      " dense_6 (Dense)             (None, 16)                160016    \n",
      "                                                                 \n",
      " dense_7 (Dense)             (None, 16)                272       \n",
      "                                                                 \n",
      " dense_8 (Dense)             (None, 1)                 17        \n",
      "                                                                 \n",
      "=================================================================\n",
      "Total params: 160305 (626.19 KB)\n",
      "Trainable params: 160305 (626.19 KB)\n",
      "Non-trainable params: 0 (0.00 Byte)\n",
      "_________________________________________________________________\n"
     ]
    }
   ],
   "source": [
    "model.summary()"
   ]
  },
  {
   "cell_type": "code",
   "execution_count": 56,
   "id": "85444a57",
   "metadata": {},
   "outputs": [
    {
     "name": "stdout",
     "output_type": "stream",
     "text": [
      "Epoch 1/20\n",
      "35/35 [==============================] - 3s 83ms/step - loss: 0.0038 - accuracy: 0.9962 - val_loss: 0.1111 - val_accuracy: 0.8699\n",
      "Epoch 2/20\n",
      "35/35 [==============================] - 0s 13ms/step - loss: 0.0038 - accuracy: 0.9962 - val_loss: 0.1113 - val_accuracy: 0.8697\n",
      "Epoch 3/20\n",
      "35/35 [==============================] - 0s 11ms/step - loss: 0.0038 - accuracy: 0.9962 - val_loss: 0.1115 - val_accuracy: 0.8697\n",
      "Epoch 4/20\n",
      "35/35 [==============================] - 0s 10ms/step - loss: 0.0038 - accuracy: 0.9962 - val_loss: 0.1119 - val_accuracy: 0.8692\n",
      "Epoch 5/20\n",
      "35/35 [==============================] - 0s 10ms/step - loss: 0.0037 - accuracy: 0.9963 - val_loss: 0.1120 - val_accuracy: 0.8687\n",
      "Epoch 6/20\n",
      "35/35 [==============================] - 0s 11ms/step - loss: 0.0037 - accuracy: 0.9963 - val_loss: 0.1122 - val_accuracy: 0.8687\n",
      "Epoch 7/20\n",
      "35/35 [==============================] - 0s 11ms/step - loss: 0.0037 - accuracy: 0.9963 - val_loss: 0.1124 - val_accuracy: 0.8685\n",
      "Epoch 8/20\n",
      "35/35 [==============================] - 0s 10ms/step - loss: 0.0037 - accuracy: 0.9963 - val_loss: 0.1126 - val_accuracy: 0.8681\n",
      "Epoch 9/20\n",
      "35/35 [==============================] - 0s 10ms/step - loss: 0.0037 - accuracy: 0.9963 - val_loss: 0.1128 - val_accuracy: 0.8680\n",
      "Epoch 10/20\n",
      "35/35 [==============================] - 0s 11ms/step - loss: 0.0037 - accuracy: 0.9963 - val_loss: 0.1133 - val_accuracy: 0.8691\n",
      "Epoch 11/20\n",
      "35/35 [==============================] - 0s 10ms/step - loss: 0.0036 - accuracy: 0.9965 - val_loss: 0.1136 - val_accuracy: 0.8680\n",
      "Epoch 12/20\n",
      "35/35 [==============================] - 0s 10ms/step - loss: 0.0035 - accuracy: 0.9965 - val_loss: 0.1139 - val_accuracy: 0.8675\n",
      "Epoch 13/20\n",
      "35/35 [==============================] - 0s 11ms/step - loss: 0.0035 - accuracy: 0.9965 - val_loss: 0.1139 - val_accuracy: 0.8679\n",
      "Epoch 14/20\n",
      "35/35 [==============================] - 0s 9ms/step - loss: 0.0035 - accuracy: 0.9965 - val_loss: 0.1140 - val_accuracy: 0.8679\n",
      "Epoch 15/20\n",
      "35/35 [==============================] - 0s 11ms/step - loss: 0.0035 - accuracy: 0.9965 - val_loss: 0.1140 - val_accuracy: 0.8679\n",
      "Epoch 16/20\n",
      "35/35 [==============================] - 0s 12ms/step - loss: 0.0035 - accuracy: 0.9965 - val_loss: 0.1142 - val_accuracy: 0.8679\n",
      "Epoch 17/20\n",
      "35/35 [==============================] - 0s 11ms/step - loss: 0.0035 - accuracy: 0.9965 - val_loss: 0.1142 - val_accuracy: 0.8677\n",
      "Epoch 18/20\n",
      "35/35 [==============================] - 0s 11ms/step - loss: 0.0035 - accuracy: 0.9965 - val_loss: 0.1143 - val_accuracy: 0.8677\n",
      "Epoch 19/20\n",
      "35/35 [==============================] - 0s 11ms/step - loss: 0.0035 - accuracy: 0.9965 - val_loss: 0.1144 - val_accuracy: 0.8675\n",
      "Epoch 20/20\n",
      "35/35 [==============================] - 0s 11ms/step - loss: 0.0035 - accuracy: 0.9965 - val_loss: 0.1145 - val_accuracy: 0.8676\n"
     ]
    }
   ],
   "source": [
    "history = model.fit(x_train, y_train, validation_split=0.3, epochs=20, batch_size=512, verbose=1)\n"
   ]
  },
  {
   "cell_type": "code",
   "execution_count": 73,
   "id": "f2b57874",
   "metadata": {},
   "outputs": [
    {
     "name": "stdout",
     "output_type": "stream",
     "text": [
      "0.8683533370494843\n"
     ]
    }
   ],
   "source": [
    "print(np.mean(history.history[\"val_accuracy\"]))"
   ]
  },
  {
   "cell_type": "code",
   "execution_count": 61,
   "id": "5c8d3749",
   "metadata": {},
   "outputs": [
    {
     "name": "stdout",
     "output_type": "stream",
     "text": [
      "dict_keys(['loss', 'accuracy', 'val_loss', 'val_accuracy'])\n"
     ]
    }
   ],
   "source": [
    "print(history.history.keys())"
   ]
  },
  {
   "cell_type": "code",
   "execution_count": 75,
   "id": "94f20c1f",
   "metadata": {},
   "outputs": [
    {
     "data": {
      "image/png": "[encoded data removed]",
      "text/plain": [
       "<Figure size 640x480 with 1 Axes>"
      ]
     },
     "metadata": {},
     "output_type": "display_data"
    }
   ],
   "source": [
    "plt.plot(history.history[\"val_accuracy\"])\n",
    "plt.plot(history.history[\"accuracy\"])\n",
    "plt.title('model accuracy')\n",
    "plt.ylabel('accuracy')\n",
    "plt.xlabel('epoch')\n",
    "plt.legend(['train', 'test'], loc='upper left')\n",
    "plt.show()"
   ]
  },
  {
   "cell_type": "code",
   "execution_count": 68,
   "id": "ddbe8173",
   "metadata": {},
   "outputs": [
    {
     "data": {
      "image/png": "[encoded data removed]",
      "text/plain": [
       "<Figure size 640x480 with 1 Axes>"
      ]
     },
     "metadata": {},
     "output_type": "display_data"
    }
   ],
   "source": [
    "plt.plot(history.history['loss'])\n",
    "plt.plot(history.history['val_loss'])\n",
    "plt.title('model loss')\n",
    "plt.ylabel('loss')\n",
    "plt.xlabel('epoch')\n",
    "plt.legend(['train', 'test'], loc='upper left')\n",
    "plt.show()"
   ]
  },
  {
   "cell_type": "code",
   "execution_count": null,
   "id": "0c38bca0",
   "metadata": {},
   "outputs": [],
   "source": []
  }
 ],
 "metadata": {
  "kernelspec": {
   "display_name": "Python 3",
   "language": "python",
   "name": "python3"
  },
  "language_info": {
   "codemirror_mode": {
    "name": "ipython",
    "version": 3
   },
   "file_extension": ".py",
   "mimetype": "text/x-python",
   "name": "python",
   "nbconvert_exporter": "python",
   "pygments_lexer": "ipython3",
   "version": "3.10.0"
  }
 },
 "nbformat": 4,
 "nbformat_minor": 5
}
